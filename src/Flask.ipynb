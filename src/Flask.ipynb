{
 "cells": [
  {
   "cell_type": "code",
   "execution_count": null,
   "metadata": {},
   "outputs": [
    {
     "name": "stdout",
     "output_type": "stream",
     "text": [
      " * Serving Flask app \"__main__\" (lazy loading)\n",
      " * Environment: production\n",
      "   WARNING: Do not use the development server in a production environment.\n",
      "   Use a production WSGI server instead.\n",
      " * Debug mode: off\n"
     ]
    },
    {
     "name": "stderr",
     "output_type": "stream",
     "text": [
      " * Running on http://127.0.0.1:5000/ (Press CTRL+C to quit)\n",
      "127.0.0.1 - - [07/Apr/2020 18:11:18] \"GET / HTTP/1.1\" 200 -\n",
      "127.0.0.1 - - [07/Apr/2020 18:11:29] \"GET /endpoint2 HTTP/1.1\" 200 -\n"
     ]
    },
    {
     "name": "stdout",
     "output_type": "stream",
     "text": [
      "taking request from user:\n"
     ]
    },
    {
     "name": "stderr",
     "output_type": "stream",
     "text": [
      "127.0.0.1 - - [07/Apr/2020 18:12:43] \"GET /endpoint2 HTTP/1.1\" 200 -\n",
      "127.0.0.1 - - [07/Apr/2020 18:13:44] \"GET /endpoint2 HTTP/1.1\" 200 -\n",
      "127.0.0.1 - - [07/Apr/2020 18:16:26] \"GET /endpoint2 HTTP/1.1\" 200 -\n",
      "127.0.0.1 - - [07/Apr/2020 18:16:27] \"GET /endpoint2 HTTP/1.1\" 200 -\n"
     ]
    }
   ],
   "source": [
    "from flask import Flask ,request\n",
    "import os\n",
    "# import internal_function_bicycle\n",
    "\n",
    "app = Flask(__name__)\n",
    "\n",
    "@app.route('/')\n",
    "def hello_world():\n",
    "    return 'Hello World'\n",
    "    \n",
    "@app.route('/endpoint1')\n",
    "def end1():\n",
    "    args = request.args\n",
    "    print(args) # For debugging\n",
    "    srcPath = args['src']\n",
    "    destnPath = args['dest']\n",
    "    os.system(\"cp {} {}\".format(srcPath, destnPath))\n",
    "    return '<h1>Endpoint1 executed.</h1> File is available in destination at {}'.format(destnPath)\n",
    "\n",
    "@app.route('/endpoint2')\n",
    "def end2():\n",
    "    print (\"taking request from user:\")\n",
    "    os.system (r\"C:\\Users\\hardik.goel\\AppData\\Local\\Continuum\\anaconda3\\python internal_function_bicycle.py\")\n",
    "    return '<h1>Endpoint2 executed.</h1>'\n",
    "# main driver function\n",
    "if __name__ == '__main__':\n",
    "    app.run(use_reloader=False)"
   ]
  },
  {
   "cell_type": "code",
   "execution_count": 4,
   "metadata": {},
   "outputs": [],
   "source": [
    "path=r'C:\\Users\\hardik.goel\\AppData\\Local\\Continuum\\anaconda3'"
   ]
  },
  {
   "cell_type": "code",
   "execution_count": 5,
   "metadata": {},
   "outputs": [
    {
     "data": {
      "text/plain": [
       "'C:\\\\Users\\\\hardik.goel\\\\AppData\\\\Local\\\\Continuum\\\\anaconda3'"
      ]
     },
     "execution_count": 5,
     "metadata": {},
     "output_type": "execute_result"
    }
   ],
   "source": []
  }
 ],
 "metadata": {
  "kernelspec": {
   "display_name": "Python 3",
   "language": "python",
   "name": "python3"
  },
  "language_info": {
   "codemirror_mode": {
    "name": "ipython",
    "version": 3
   },
   "file_extension": ".py",
   "mimetype": "text/x-python",
   "name": "python",
   "nbconvert_exporter": "python",
   "pygments_lexer": "ipython3",
   "version": "3.7.3"
  }
 },
 "nbformat": 4,
 "nbformat_minor": 2
}
